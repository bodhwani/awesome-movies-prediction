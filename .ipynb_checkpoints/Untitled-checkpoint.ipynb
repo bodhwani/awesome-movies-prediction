{
 "cells": [
  {
   "cell_type": "code",
   "execution_count": 9,
   "metadata": {},
   "outputs": [
    {
     "name": "stdout",
     "output_type": "stream",
     "text": [
      "                MOVIES NAMES  MN  RATINGS  PLOT\n",
      "0   Beauty and the Beast.mp4   0      7.3  2017\n",
      "1                  .DS_Store   1      0.0  2000\n",
      "2         .ipynb_checkpoints   2      0.0  2000\n",
      "3           12 Angry Men.mp4   3      8.9  2000\n",
      "4           Blade Runner.mp4   4      8.2  2000\n",
      "5                   data.csv   5      7.3  2000\n",
      "6                  data2.csv   6      0.0  2000\n",
      "7              data2.numbers   7      0.0  2000\n",
      "8            Goodfellas .mp4   8      8.7  2000\n",
      "9                      graph   9      6.8  2000\n",
      "10              imdbFinal.py  10      0.0  2000\n",
      "11             Inception.mp4  11      8.8  2000\n",
      "12       membersFinal32.xlsx  12      0.0  2000\n",
      "13      Schindler's List.mp4  13      8.9  2000\n",
      "14       The Dark Knight.mp4  14      9.0  2000\n",
      "15         The Godfather.mp4  15      9.2  2000\n",
      "16            The Matrix.mp4  16      8.7  2000\n",
      "17            Untitled.ipynb  17      0.0  2000\n"
     ]
    },
    {
     "data": {
      "image/png": "[encoded data removed]",
      "text/plain": [
       "<matplotlib.figure.Figure at 0x111515310>"
      ]
     },
     "metadata": {},
     "output_type": "display_data"
    },
    {
     "data": {
      "image/png": "[encoded data removed]",
      "text/plain": [
       "<matplotlib.figure.Figure at 0x1118493d0>"
      ]
     },
     "metadata": {},
     "output_type": "display_data"
    }
   ],
   "source": [
    "import numpy as np\n",
    "import pandas as pd\n",
    "from pandas import DataFrame as df\n",
    "import matplotlib.pyplot as plt\n",
    "import urllib\n",
    "from urllib2 import Request, urlopen, URLError\n",
    "import json\n",
    "import pandas as pd\n",
    "import os\n",
    "import requests\n",
    "from lxml import html\n",
    "import sys\n",
    "import xlsxwriter\n",
    "\n",
    "\n",
    "\n",
    "\n",
    "#/Users/Vinit/Documents/PROJECTS_MY/IMDB_MYPROJECT/extras\n",
    "\n",
    "\n",
    "\n",
    "\n",
    "data = pd.read_csv('data2.csv')\n",
    "\n",
    "print data \n",
    "\n",
    "# data.plot(kind='bar')\n",
    "# plt.ylabel('Ratings')\n",
    "# plt.xlabel('Movies index')\n",
    "# plt.title('Movies graph')\n",
    "data.plot(x=\"PLOT\", y=[\"MN\",\"RATINGS\"], kind=\"bar\")\n",
    "df=data\n",
    "\n",
    "# ax = df.plot(x=\"Movies ratings\", y=\"Ratings\", kind=\"bar\")\n",
    "# df.plot(x=\"Movies ratings\", y=\"Ratings\", kind=\"bar\", ax=ax, color=\"C2\")\n",
    "# df.plot(x=\"Movies ratings\", y=\"Genre\", kind=\"bar\", ax=ax, color=\"C3\")\n",
    "\n",
    "ax = df.plot(x=\"PLOT\", y=\"MN\", kind=\"bar\")\n",
    "df.plot(x=\"PLOT\", y=\"MN\", kind=\"bar\", ax=ax, color=\"C2\")\n",
    "df.plot(x=\"PLOT\", y=\"RATINGS\", kind=\"bar\", ax=ax, color=\"C3\")\n",
    "\n",
    "\n",
    "plt.show()"
   ]
  },
  {
   "cell_type": "code",
   "execution_count": null,
   "metadata": {
    "collapsed": true
   },
   "outputs": [],
   "source": []
  }
 ],
 "metadata": {
  "kernelspec": {
   "display_name": "Python 2",
   "language": "python",
   "name": "python2"
  },
  "language_info": {
   "codemirror_mode": {
    "name": "ipython",
    "version": 2
   },
   "file_extension": ".py",
   "mimetype": "text/x-python",
   "name": "python",
   "nbconvert_exporter": "python",
   "pygments_lexer": "ipython2",
   "version": "2.7.13"
  }
 },
 "nbformat": 4,
 "nbformat_minor": 2
}
